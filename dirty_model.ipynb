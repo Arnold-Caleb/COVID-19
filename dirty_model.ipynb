{
 "cells": [
  {
   "cell_type": "code",
   "execution_count": null,
   "metadata": {
    "colab": {},
    "colab_type": "code",
    "id": "_YboSV8jXFoC"
   },
   "outputs": [],
   "source": [
    "from __future__ import absolute_import, division, print_function, unicode_literals"
   ]
  },
  {
   "cell_type": "code",
   "execution_count": null,
   "metadata": {
    "colab": {},
    "colab_type": "code",
    "id": "M8wffOtOXjuF"
   },
   "outputs": [],
   "source": [
    "import tensorflow as tf"
   ]
  },
  {
   "cell_type": "code",
   "execution_count": null,
   "metadata": {
    "colab": {},
    "colab_type": "code",
    "id": "d4uq7WtXXlbV"
   },
   "outputs": [],
   "source": [
    "import matplotlib.pyplot as plt\n",
    "\n",
    "from tensorflow.keras.preprocessing import image\n",
    "from tensorflow.keras.models import Sequential\n",
    "from tensorflow.keras.layers import Dense, Conv2D, Flatten, Dropout, MaxPooling2D\n",
    "from tensorflow.keras.optimizers import RMSprop\n",
    "from tensorflow.keras.callbacks import ModelCheckpoint, EarlyStopping, ReduceLROnPlateau\n"
   ]
  },
  {
   "cell_type": "code",
   "execution_count": null,
   "metadata": {
    "colab": {},
    "colab_type": "code",
    "id": "w0wbRoykXyIb"
   },
   "outputs": [],
   "source": [
    "from PIL import Image\n",
    "import os\n",
    "from pathlib import Path\n",
    "\n",
    "import numpy as np"
   ]
  },
  {
   "cell_type": "code",
   "execution_count": null,
   "metadata": {
    "colab": {},
    "colab_type": "code",
    "id": "hKuQGj5jYKAD"
   },
   "outputs": [],
   "source": [
    "def load_images_in_folder(folder):\n",
    "  '''\n",
    "  Iterate over all the images in the folder and convert them to numpy arrays \n",
    "  with format channels_last\n",
    "  '''\n",
    "  current_directory = Path.cwd()\n",
    "  image_directory = current_directory.joinpath(folder)\n",
    "  images = []\n",
    "    \n",
    "  for filename in image_directory.iterdir():\n",
    "    \n",
    "    #Load the images into PIL format\n",
    "    img = image.load_img(filename, target_size=(224, 224))\n",
    "    #Convert the PIL image to a numpy array\n",
    "    img = image.img_to_array(img) / 255\n",
    "    images.append(img)\n",
    "    \n",
    "  return np.array(images)\n",
    "\n",
    "corona_train = load_images_in_folder('datasets/train/corona')\n",
    "normal_train = load_images_in_folder('datasets/train/normal')\n",
    "pneu_train = load_images_in_folder('datasets/train/pneumonia')\n",
    "\n",
    "corona_test = load_images_in_folder('datasets/test/corona')\n",
    "normal_test = load_images_in_folder('datasets/test/normal')\n",
    "pneu_test = load_images_in_folder('datasets/test/pneumonia')"
   ]
  },
  {
   "cell_type": "code",
   "execution_count": null,
   "metadata": {
    "colab": {},
    "colab_type": "code",
    "id": "j4oRWtCgZ-M-"
   },
   "outputs": [],
   "source": [
    "train_gen = image.ImageDataGenerator(rescale = 1./255,\n",
    "                                     shear_range = 0.2,\n",
    "                                     zoom_range = 0.2,\n",
    "                                     width_shift_range = 0.1,\n",
    "                                     height_shift_range = 0.1,\n",
    "                                     horizontal_flip = True,\n",
    "                                     )\n",
    "test_gen = image.ImageDataGenerator(rescale = 1./255,)"
   ]
  },
  {
   "cell_type": "code",
   "execution_count": null,
   "metadata": {
    "colab": {},
    "colab_type": "code",
    "id": "Ef7lpIL4am_0"
   },
   "outputs": [],
   "source": [
    "train_dir = './datasets/train'\n",
    "test_dir = './datasets/test'\n",
    "BATCH_SIZE = 32\n",
    "\n",
    "train_data_gen = train_gen.flow_from_directory(batch_size=BATCH_SIZE,\n",
    "                                               directory=train_dir,\n",
    "                                               shuffle=True,\n",
    "                                               target_size=(224, 224),\n",
    "                                               class_mode='sparse'\n",
    "                                               )\n",
    "\n",
    "test_data_gen = test_gen.flow_from_directory(batch_size=BATCH_SIZE,\n",
    "                                             directory=test_dir,\n",
    "                                             target_size = (224, 224),\n",
    "                                             class_mode='sparse'\n",
    "                                             )\n",
    "\n"
   ]
  },
  {
   "cell_type": "code",
   "execution_count": null,
   "metadata": {
    "colab": {},
    "colab_type": "code",
    "id": "zceS_F-4bma3"
   },
   "outputs": [],
   "source": []
  },
  {
   "cell_type": "code",
   "execution_count": null,
   "metadata": {
    "colab": {},
    "colab_type": "code",
    "id": "VkFy8EWvbqYi"
   },
   "outputs": [],
   "source": [
    "# callbacks monitoring the model's performance\n",
    "checkpoint = ModelCheckpoint('corona_model_callback10.h5',\n",
    "                             monitor='val_loss',\n",
    "                             mode='min',\n",
    "                             save_best_only=True,\n",
    "                             verbose=1)\n",
    "\n",
    "earlystop = EarlyStopping(monitor='val_loss',\n",
    "                          min_delta=0,\n",
    "                          patience=10,\n",
    "                          verbose=1,\n",
    "                          restore_best_weights=True,\n",
    "                          )\n",
    "\n",
    "reduce_lr = ReduceLROnPlateau(monitor='val_loss',\n",
    "                              factor=0.1, \n",
    "                              patience=4, \n",
    "                              verbose=1,\n",
    "                              min_delta=0.0001)\n",
    "\n",
    "callbacks = [earlystop, checkpoint, reduce_lr]"
   ]
  },
  {
   "cell_type": "code",
   "execution_count": null,
   "metadata": {
    "colab": {},
    "colab_type": "code",
    "id": "z1SYDwvUcokC"
   },
   "outputs": [],
   "source": [
    "def plotImages(images_arr):\n",
    "    \n",
    "  fig, axes = plt.subplots(1, 5, figsize=(20, 20))\n",
    "  axes = axes.flatten()\n",
    "  for img, ax in zip(images_arr, axes):\n",
    "    ax.imshow(img)\n",
    "  plt.tight_layout()\n",
    "  plt.show()\n",
    "\n",
    "training_images, training_labels = next(train_data_gen) \n",
    "plotImages(training_images[:5])"
   ]
  },
  {
   "cell_type": "code",
   "execution_count": null,
   "metadata": {
    "colab": {},
    "colab_type": "code",
    "id": "HrQDwyj8dKnV"
   },
   "outputs": [],
   "source": []
  },
  {
   "cell_type": "code",
   "execution_count": null,
   "metadata": {
    "colab": {},
    "colab_type": "code",
    "id": "xRpi5XPGc3Ke"
   },
   "outputs": [],
   "source": [
    "def create_model():\n",
    "    model = Sequential()\n",
    "    model.add(Conv2D(16, 3, padding='same', activation='relu', input_shape=(224, 224, 3)))\n",
    "    model.add(MaxPooling2D())\n",
    "\n",
    "    model.add(Conv2D(32, 3, padding='same', activation='relu'))\n",
    "    model.add(MaxPooling2D())\n",
    "\n",
    "    model.add(Conv2D(64, 3, padding='same', activation='relu'))\n",
    "    model.add(MaxPooling2D())\n",
    "\n",
    "    model.add(Flatten())\n",
    "    model.add(Dropout(0.2))\n",
    "    model.add(Dense(512, activation='relu'))\n",
    "\n",
    "    model.add(Dropout(0.2))\n",
    "    model.add(Dense(1024, activation='relu'))\n",
    "\n",
    "    model.add(Dropout(0.2))\n",
    "    model.add(Dense(3))\n",
    "    \n",
    "    return model"
   ]
  },
  {
   "cell_type": "code",
   "execution_count": null,
   "metadata": {
    "colab": {},
    "colab_type": "code",
    "id": "KfZVp_uxejVq"
   },
   "outputs": [],
   "source": [
    "model = create_model()\n",
    "model.compile(optimizer='adam',\n",
    "              loss=tf.keras.losses.SparseCategoricalCrossentropy(from_logits=True),\n",
    "              metrics=['accuracy'])\n",
    "\n",
    "EPOCHS = 25\n",
    "\n",
    "history = model.fit_generator(train_data_gen, \n",
    "                              steps_per_epoch = int(np.ceil(train_data_gen.n/ float(batch_size))),\n",
    "                              epochs=EPOCHS,\n",
    "                              callbacks=callbacks,\n",
    "                              )"
   ]
  },
  {
   "cell_type": "code",
   "execution_count": null,
   "metadata": {
    "colab": {},
    "colab_type": "code",
    "id": "GQ8wbxn5fjJ5"
   },
   "outputs": [],
   "source": [
    "acc = history.history['accuracy']\n",
    "val_acc = history.history['val_accuracy']\n",
    "\n",
    "loss = history.history['loss']\n",
    "val_loss = history.history['val_loss']\n",
    "\n",
    "epochs_range = range(EPOCHS)\n",
    "\n",
    "plt.figure(figsize=(8, 8))\n",
    "plt.subplot(1, 2, 1)\n",
    "plt.plot(epochs_range, acc, label='Training Accuracy')\n",
    "plt.plot(epochs_range, val_acc, label='Validation Accuracy')\n",
    "plt.legend(loc='lower right')\n",
    "plt.title('Training and Validation Accuracy')\n",
    "\n",
    "plt.subplot(1, 2, 2)\n",
    "plt.plot(epochs_range, loss, label='Training loss')\n",
    "plt.plot(epochs_range, val_loss, label='Validation loss')\n",
    "plt.legend(loc='upper right')\n",
    "plt.title('Training and Validation loss')\n",
    "plt.show()"
   ]
  },
  {
   "cell_type": "code",
   "execution_count": null,
   "metadata": {
    "colab": {},
    "colab_type": "code",
    "id": "3YbGIE_jgdCI"
   },
   "outputs": [],
   "source": []
  },
  {
   "cell_type": "code",
   "execution_count": null,
   "metadata": {
    "colab": {},
    "colab_type": "code",
    "id": "UjHPQHq2g7aK"
   },
   "outputs": [],
   "source": [
    "model.save('dirty_covid_model.h5')"
   ]
  },
  {
   "cell_type": "code",
   "execution_count": null,
   "metadata": {
    "colab": {},
    "colab_type": "code",
    "id": "8cNQCgflhBZ8"
   },
   "outputs": [],
   "source": [
    "from tensorflow.keras.models import load_model\n",
    "\n",
    "classifier = load_model('dirty_covid_model.h5')"
   ]
  },
  {
   "cell_type": "code",
   "execution_count": null,
   "metadata": {
    "colab": {},
    "colab_type": "code",
    "id": "Vu_rPJrphIWT"
   },
   "outputs": [],
   "source": []
  }
 ],
 "metadata": {
  "colab": {
   "collapsed_sections": [],
   "name": "dirty_model.ipynb",
   "provenance": []
  },
  "kernelspec": {
   "display_name": "Python 3",
   "language": "python",
   "name": "python3"
  },
  "language_info": {
   "codemirror_mode": {
    "name": "ipython",
    "version": 3
   },
   "file_extension": ".py",
   "mimetype": "text/x-python",
   "name": "python",
   "nbconvert_exporter": "python",
   "pygments_lexer": "ipython3",
   "version": "3.6.9"
  }
 },
 "nbformat": 4,
 "nbformat_minor": 1
}
